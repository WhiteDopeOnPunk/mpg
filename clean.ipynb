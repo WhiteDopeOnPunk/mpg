{
 "cells": [
  {
   "cell_type": "markdown",
   "id": "9151a000-1923-408b-bd86-16008dc95f97",
   "metadata": {},
   "source": [
    "[readme](readme.md)"
   ]
  },
  {
   "cell_type": "markdown",
   "id": "cecbac86-abb3-4f6b-a101-2d9324d96274",
   "metadata": {},
   "source": [
    "# Cleaning\n",
    "\n",
    "Let's get this to something we can work with"
   ]
  },
  {
   "cell_type": "markdown",
   "id": "b67cb510-2df0-4ce4-a033-473710fdc749",
   "metadata": {},
   "source": [
    "Load file and set column names"
   ]
  },
  {
   "cell_type": "code",
   "execution_count": 1,
   "id": "3c4bfade-d06d-4887-9eb4-ec7f5bc61625",
   "metadata": {
    "execution": {
     "iopub.execute_input": "2022-08-01T00:18:59.316785Z",
     "iopub.status.busy": "2022-08-01T00:18:59.315438Z",
     "iopub.status.idle": "2022-08-01T00:19:00.307894Z",
     "shell.execute_reply": "2022-08-01T00:19:00.307130Z",
     "shell.execute_reply.started": "2022-08-01T00:18:59.316695Z"
    },
    "tags": []
   },
   "outputs": [],
   "source": [
    "import pandas as pd\n",
    "import seaborn as sns\n",
    "import matplotlib.pyplot as plt\n",
    "\n",
    "df = pd.read_csv('data/auto-mpg.data',header=None,delim_whitespace=True)\n",
    "df.columns = ['mpg','cylinders','displacement','horsepower','weight',\n",
    "              'acceleration','model_year','origin','car_name']"
   ]
  },
  {
   "cell_type": "markdown",
   "id": "fdcec7e3-c65e-4d66-9a10-b500fb940234",
   "metadata": {},
   "source": [
    "Attribute Information:\n",
    "\n",
    "    1. mpg:           continuous\n",
    "    2. cylinders:     multi-valued discrete\n",
    "    3. displacement:  continuous\n",
    "    4. horsepower:    continuous\n",
    "    5. weight:        continuous\n",
    "    6. acceleration:  continuous\n",
    "    7. model year:    multi-valued discrete\n",
    "    8. origin:        multi-valued discrete\n",
    "    9. car name:      string (unique for each instance)"
   ]
  },
  {
   "cell_type": "code",
   "execution_count": 2,
   "id": "62bbb6bd-b5b3-4d54-a132-23cd367c4570",
   "metadata": {
    "execution": {
     "iopub.execute_input": "2022-08-01T00:19:00.311568Z",
     "iopub.status.busy": "2022-08-01T00:19:00.310921Z",
     "iopub.status.idle": "2022-08-01T00:19:00.322308Z",
     "shell.execute_reply": "2022-08-01T00:19:00.321851Z",
     "shell.execute_reply.started": "2022-08-01T00:19:00.311524Z"
    },
    "tags": []
   },
   "outputs": [
    {
     "name": "stdout",
     "output_type": "stream",
     "text": [
      "<class 'pandas.core.frame.DataFrame'>\n",
      "RangeIndex: 398 entries, 0 to 397\n",
      "Data columns (total 9 columns):\n",
      " #   Column        Non-Null Count  Dtype  \n",
      "---  ------        --------------  -----  \n",
      " 0   mpg           398 non-null    float64\n",
      " 1   cylinders     398 non-null    int64  \n",
      " 2   displacement  398 non-null    float64\n",
      " 3   horsepower    398 non-null    object \n",
      " 4   weight        398 non-null    float64\n",
      " 5   acceleration  398 non-null    float64\n",
      " 6   model_year    398 non-null    int64  \n",
      " 7   origin        398 non-null    int64  \n",
      " 8   car_name      398 non-null    object \n",
      "dtypes: float64(4), int64(3), object(2)\n",
      "memory usage: 28.1+ KB\n"
     ]
    }
   ],
   "source": [
    "df.info()"
   ]
  },
  {
   "cell_type": "markdown",
   "id": "6a4028ed-eda3-4c50-aed0-d9503d41a8e1",
   "metadata": {},
   "source": [
    "No nulls, but why is horsepower not a number?"
   ]
  },
  {
   "cell_type": "code",
   "execution_count": 3,
   "id": "58fa2876-4ccb-4ef5-bc16-d25b74efb457",
   "metadata": {
    "execution": {
     "iopub.execute_input": "2022-08-01T00:19:00.323107Z",
     "iopub.status.busy": "2022-08-01T00:19:00.322921Z",
     "iopub.status.idle": "2022-08-01T00:19:00.333299Z",
     "shell.execute_reply": "2022-08-01T00:19:00.332860Z",
     "shell.execute_reply.started": "2022-08-01T00:19:00.323092Z"
    },
    "tags": []
   },
   "outputs": [
    {
     "data": {
      "text/plain": [
       "array(['130.0', '165.0', '150.0', '140.0', '198.0', '220.0', '215.0',\n",
       "       '225.0', '190.0', '170.0', '160.0', '95.00', '97.00', '85.00',\n",
       "       '88.00', '46.00', '87.00', '90.00', '113.0', '200.0', '210.0',\n",
       "       '193.0', '?', '100.0', '105.0', '175.0', '153.0', '180.0', '110.0',\n",
       "       '72.00', '86.00', '70.00', '76.00', '65.00', '69.00', '60.00',\n",
       "       '80.00', '54.00', '208.0', '155.0', '112.0', '92.00', '145.0',\n",
       "       '137.0', '158.0', '167.0', '94.00', '107.0', '230.0', '49.00',\n",
       "       '75.00', '91.00', '122.0', '67.00', '83.00', '78.00', '52.00',\n",
       "       '61.00', '93.00', '148.0', '129.0', '96.00', '71.00', '98.00',\n",
       "       '115.0', '53.00', '81.00', '79.00', '120.0', '152.0', '102.0',\n",
       "       '108.0', '68.00', '58.00', '149.0', '89.00', '63.00', '48.00',\n",
       "       '66.00', '139.0', '103.0', '125.0', '133.0', '138.0', '135.0',\n",
       "       '142.0', '77.00', '62.00', '132.0', '84.00', '64.00', '74.00',\n",
       "       '116.0', '82.00'], dtype=object)"
      ]
     },
     "execution_count": 3,
     "metadata": {},
     "output_type": "execute_result"
    }
   ],
   "source": [
    "df.horsepower.unique()"
   ]
  },
  {
   "cell_type": "code",
   "execution_count": 4,
   "id": "2d99ea58-ca51-4461-a127-c6b389b056a1",
   "metadata": {
    "execution": {
     "iopub.execute_input": "2022-08-01T00:19:00.334093Z",
     "iopub.status.busy": "2022-08-01T00:19:00.333926Z",
     "iopub.status.idle": "2022-08-01T00:19:00.347963Z",
     "shell.execute_reply": "2022-08-01T00:19:00.347305Z",
     "shell.execute_reply.started": "2022-08-01T00:19:00.334077Z"
    },
    "tags": []
   },
   "outputs": [
    {
     "data": {
      "text/html": [
       "<div>\n",
       "<style scoped>\n",
       "    .dataframe tbody tr th:only-of-type {\n",
       "        vertical-align: middle;\n",
       "    }\n",
       "\n",
       "    .dataframe tbody tr th {\n",
       "        vertical-align: top;\n",
       "    }\n",
       "\n",
       "    .dataframe thead th {\n",
       "        text-align: right;\n",
       "    }\n",
       "</style>\n",
       "<table border=\"1\" class=\"dataframe\">\n",
       "  <thead>\n",
       "    <tr style=\"text-align: right;\">\n",
       "      <th></th>\n",
       "      <th>mpg</th>\n",
       "      <th>cylinders</th>\n",
       "      <th>displacement</th>\n",
       "      <th>horsepower</th>\n",
       "      <th>weight</th>\n",
       "      <th>acceleration</th>\n",
       "      <th>model_year</th>\n",
       "      <th>origin</th>\n",
       "      <th>car_name</th>\n",
       "    </tr>\n",
       "  </thead>\n",
       "  <tbody>\n",
       "    <tr>\n",
       "      <th>32</th>\n",
       "      <td>25.0</td>\n",
       "      <td>4</td>\n",
       "      <td>98.0</td>\n",
       "      <td>?</td>\n",
       "      <td>2046.0</td>\n",
       "      <td>19.0</td>\n",
       "      <td>71</td>\n",
       "      <td>1</td>\n",
       "      <td>ford pinto</td>\n",
       "    </tr>\n",
       "    <tr>\n",
       "      <th>126</th>\n",
       "      <td>21.0</td>\n",
       "      <td>6</td>\n",
       "      <td>200.0</td>\n",
       "      <td>?</td>\n",
       "      <td>2875.0</td>\n",
       "      <td>17.0</td>\n",
       "      <td>74</td>\n",
       "      <td>1</td>\n",
       "      <td>ford maverick</td>\n",
       "    </tr>\n",
       "    <tr>\n",
       "      <th>330</th>\n",
       "      <td>40.9</td>\n",
       "      <td>4</td>\n",
       "      <td>85.0</td>\n",
       "      <td>?</td>\n",
       "      <td>1835.0</td>\n",
       "      <td>17.3</td>\n",
       "      <td>80</td>\n",
       "      <td>2</td>\n",
       "      <td>renault lecar deluxe</td>\n",
       "    </tr>\n",
       "    <tr>\n",
       "      <th>336</th>\n",
       "      <td>23.6</td>\n",
       "      <td>4</td>\n",
       "      <td>140.0</td>\n",
       "      <td>?</td>\n",
       "      <td>2905.0</td>\n",
       "      <td>14.3</td>\n",
       "      <td>80</td>\n",
       "      <td>1</td>\n",
       "      <td>ford mustang cobra</td>\n",
       "    </tr>\n",
       "    <tr>\n",
       "      <th>354</th>\n",
       "      <td>34.5</td>\n",
       "      <td>4</td>\n",
       "      <td>100.0</td>\n",
       "      <td>?</td>\n",
       "      <td>2320.0</td>\n",
       "      <td>15.8</td>\n",
       "      <td>81</td>\n",
       "      <td>2</td>\n",
       "      <td>renault 18i</td>\n",
       "    </tr>\n",
       "    <tr>\n",
       "      <th>374</th>\n",
       "      <td>23.0</td>\n",
       "      <td>4</td>\n",
       "      <td>151.0</td>\n",
       "      <td>?</td>\n",
       "      <td>3035.0</td>\n",
       "      <td>20.5</td>\n",
       "      <td>82</td>\n",
       "      <td>1</td>\n",
       "      <td>amc concord dl</td>\n",
       "    </tr>\n",
       "  </tbody>\n",
       "</table>\n",
       "</div>"
      ],
      "text/plain": [
       "      mpg  cylinders  displacement horsepower  weight  acceleration  \\\n",
       "32   25.0          4          98.0          ?  2046.0          19.0   \n",
       "126  21.0          6         200.0          ?  2875.0          17.0   \n",
       "330  40.9          4          85.0          ?  1835.0          17.3   \n",
       "336  23.6          4         140.0          ?  2905.0          14.3   \n",
       "354  34.5          4         100.0          ?  2320.0          15.8   \n",
       "374  23.0          4         151.0          ?  3035.0          20.5   \n",
       "\n",
       "     model_year  origin              car_name  \n",
       "32           71       1            ford pinto  \n",
       "126          74       1         ford maverick  \n",
       "330          80       2  renault lecar deluxe  \n",
       "336          80       1    ford mustang cobra  \n",
       "354          81       2           renault 18i  \n",
       "374          82       1        amc concord dl  "
      ]
     },
     "execution_count": 4,
     "metadata": {},
     "output_type": "execute_result"
    }
   ],
   "source": [
    "df[df.horsepower == '?']"
   ]
  },
  {
   "cell_type": "markdown",
   "id": "498d069d-b95e-43d6-bd3d-4b707fdd9635",
   "metadata": {},
   "source": [
    "I'll fill in what I can with what I can find online"
   ]
  },
  {
   "cell_type": "code",
   "execution_count": 5,
   "id": "e53a2eaf-a8f9-4d7e-bf8b-07a125cf6f06",
   "metadata": {
    "execution": {
     "iopub.execute_input": "2022-08-01T00:19:00.348907Z",
     "iopub.status.busy": "2022-08-01T00:19:00.348680Z",
     "iopub.status.idle": "2022-08-01T00:19:00.352582Z",
     "shell.execute_reply": "2022-08-01T00:19:00.351931Z",
     "shell.execute_reply.started": "2022-08-01T00:19:00.348891Z"
    },
    "tags": []
   },
   "outputs": [],
   "source": [
    "# 1971 pinto kent I4\n",
    "df.at[32,'horsepower'] = '75.0'\n",
    "# 1974 maverick 200 I6\n",
    "df.at[126,'horsepower'] = '85.0'\n",
    "# 1980 renault lecar deluxe 85ci I4\n",
    "df.at[330,'horsepower'] = '53.5'\n",
    "# 1980 ford mustang cobra\n",
    "# they seem confused between 2 different models\n",
    "# 1981 renault 18i\n",
    "df.at[354,'horsepower'] = '81.5'\n",
    "#1982 AMC concord dl 151\n",
    "df.at[374,'horsepower'] = '90'"
   ]
  },
  {
   "cell_type": "markdown",
   "id": "68d959c5-9628-437f-8f3f-0b4c7002b1f0",
   "metadata": {},
   "source": [
    "We'll ignore the mustang because it's too far off from realistic, it looks like they got confused between two different models.\n",
    "\n",
    "Anyway, drop all '?' horsepower"
   ]
  },
  {
   "cell_type": "code",
   "execution_count": 6,
   "id": "10400330-e6aa-43e0-910f-f97869c23d0f",
   "metadata": {
    "execution": {
     "iopub.execute_input": "2022-08-01T00:19:00.353597Z",
     "iopub.status.busy": "2022-08-01T00:19:00.353430Z",
     "iopub.status.idle": "2022-08-01T00:19:00.360958Z",
     "shell.execute_reply": "2022-08-01T00:19:00.359990Z",
     "shell.execute_reply.started": "2022-08-01T00:19:00.353582Z"
    },
    "tags": []
   },
   "outputs": [],
   "source": [
    "df.drop(df[df.horsepower == '?'].index,inplace=True)\n",
    "df['horsepower'] = df.horsepower.astype(float)\n",
    "df.reset_index(inplace=True,drop=True)"
   ]
  },
  {
   "cell_type": "markdown",
   "id": "b2afc76d-c428-4b81-9882-5ea19ecd04bb",
   "metadata": {},
   "source": [
    "And set to floats, like the rest"
   ]
  },
  {
   "cell_type": "code",
   "execution_count": 7,
   "id": "e0fd9a7b-6cdf-4346-8c8d-6c5f36e167f6",
   "metadata": {
    "execution": {
     "iopub.execute_input": "2022-08-01T00:19:00.365129Z",
     "iopub.status.busy": "2022-08-01T00:19:00.364725Z",
     "iopub.status.idle": "2022-08-01T00:19:00.373554Z",
     "shell.execute_reply": "2022-08-01T00:19:00.372817Z",
     "shell.execute_reply.started": "2022-08-01T00:19:00.365100Z"
    },
    "tags": []
   },
   "outputs": [
    {
     "name": "stdout",
     "output_type": "stream",
     "text": [
      "<class 'pandas.core.frame.DataFrame'>\n",
      "RangeIndex: 397 entries, 0 to 396\n",
      "Data columns (total 9 columns):\n",
      " #   Column        Non-Null Count  Dtype  \n",
      "---  ------        --------------  -----  \n",
      " 0   mpg           397 non-null    float64\n",
      " 1   cylinders     397 non-null    int64  \n",
      " 2   displacement  397 non-null    float64\n",
      " 3   horsepower    397 non-null    float64\n",
      " 4   weight        397 non-null    float64\n",
      " 5   acceleration  397 non-null    float64\n",
      " 6   model_year    397 non-null    int64  \n",
      " 7   origin        397 non-null    int64  \n",
      " 8   car_name      397 non-null    object \n",
      "dtypes: float64(5), int64(3), object(1)\n",
      "memory usage: 28.0+ KB\n"
     ]
    }
   ],
   "source": [
    "df.info()"
   ]
  },
  {
   "cell_type": "markdown",
   "id": "097c4cec-eb77-46f6-8eef-89eb7c47b425",
   "metadata": {},
   "source": [
    "Looks good"
   ]
  },
  {
   "cell_type": "markdown",
   "id": "151e5f1b-6409-4972-9c79-a26d132eedf5",
   "metadata": {},
   "source": [
    "### Min/Max to check range"
   ]
  },
  {
   "cell_type": "code",
   "execution_count": 8,
   "id": "769f33e7-2f2e-46e8-b6dd-8f8fb79d13b7",
   "metadata": {
    "execution": {
     "iopub.execute_input": "2022-08-01T00:19:00.374606Z",
     "iopub.status.busy": "2022-08-01T00:19:00.374357Z",
     "iopub.status.idle": "2022-08-01T00:19:00.379646Z",
     "shell.execute_reply": "2022-08-01T00:19:00.379055Z",
     "shell.execute_reply.started": "2022-08-01T00:19:00.374591Z"
    },
    "tags": []
   },
   "outputs": [
    {
     "name": "stdout",
     "output_type": "stream",
     "text": [
      "mpg\n",
      "Min: 9.0  \n",
      "Max: 46.6\n",
      "\n",
      "cylinders\n",
      "Min: 3  \n",
      "Max: 8\n",
      "\n",
      "displacement\n",
      "Min: 68.0  \n",
      "Max: 455.0\n",
      "\n",
      "horsepower\n",
      "Min: 46.0  \n",
      "Max: 230.0\n",
      "\n",
      "weight\n",
      "Min: 1613.0  \n",
      "Max: 5140.0\n",
      "\n",
      "acceleration\n",
      "Min: 8.0  \n",
      "Max: 24.8\n",
      "\n",
      "model_year\n",
      "Min: 70  \n",
      "Max: 82\n",
      "\n",
      "origin\n",
      "Min: 1  \n",
      "Max: 3\n",
      "\n"
     ]
    }
   ],
   "source": [
    "for col in df.columns[:-1]:\n",
    "    print(f'''{col}\n",
    "Min: {df[col].min()}  \n",
    "Max: {df[col].max()}\n",
    "''')"
   ]
  },
  {
   "cell_type": "markdown",
   "id": "59641984-e266-4eaa-a90d-af266cb95936",
   "metadata": {},
   "source": [
    "All of this makes sense"
   ]
  },
  {
   "cell_type": "code",
   "execution_count": 9,
   "id": "7bac1a71-53d2-4081-b566-244bccd3a3c6",
   "metadata": {
    "execution": {
     "iopub.execute_input": "2022-08-01T00:19:00.380599Z",
     "iopub.status.busy": "2022-08-01T00:19:00.380414Z",
     "iopub.status.idle": "2022-08-01T00:19:00.387779Z",
     "shell.execute_reply": "2022-08-01T00:19:00.387145Z",
     "shell.execute_reply.started": "2022-08-01T00:19:00.380583Z"
    },
    "tags": []
   },
   "outputs": [
    {
     "data": {
      "text/plain": [
       "array(['datsun pl510', 'amc gremlin', 'chevrolet chevelle malibu',\n",
       "       'chevrolet impala', 'ford galaxie 500', 'plymouth fury iii',\n",
       "       'pontiac catalina', 'amc matador', 'amc hornet', 'ford maverick',\n",
       "       'plymouth duster', 'chevrolet vega', 'ford pinto',\n",
       "       'toyota corolla 1200', 'ford gran torino', 'ford gran torino (sw)',\n",
       "       'amc matador (sw)', 'opel manta', 'toyota corona', 'fiat 128',\n",
       "       'chevrolet nova', 'ford ltd', 'volkswagen dasher', 'datsun 710',\n",
       "       'audi 100ls', 'peugeot 504', 'saab 99le', 'opel 1900',\n",
       "       'dodge colt', 'chevrolet chevelle malibu classic',\n",
       "       'plymouth valiant', 'honda civic', 'volkswagen rabbit',\n",
       "       'toyota corolla', 'toyota mark ii', 'chevrolet caprice classic',\n",
       "       'chevrolet chevette', 'honda civic cvcc', 'chevrolet malibu',\n",
       "       'chevrolet monte carlo landau', 'buick estate wagon (sw)',\n",
       "       'ford country squire (sw)', 'oldsmobile cutlass salon brougham',\n",
       "       'vw rabbit', 'chevrolet citation', 'amc concord', 'dodge aspen',\n",
       "       'datsun 210', 'subaru dl', 'buick skylark', 'plymouth reliant',\n",
       "       'subaru', 'mazda 626', 'buick century', 'pontiac phoenix',\n",
       "       'honda accord'], dtype=object)"
      ]
     },
     "execution_count": 9,
     "metadata": {},
     "output_type": "execute_result"
    }
   ],
   "source": [
    "df[df.car_name.duplicated()].car_name.unique()"
   ]
  },
  {
   "cell_type": "markdown",
   "id": "81b8d5a5-d323-4a70-b951-b2fe4fb1e35f",
   "metadata": {},
   "source": [
    "There are some duplicate car names, honestly I wish there were more. If I had a bunch of data with lots of duplicate car names it'd actually be easier to predict MPG I imagine, I'll say more on this later but there are some big factors that aren't represented here."
   ]
  },
  {
   "cell_type": "code",
   "execution_count": 10,
   "id": "87715776-3634-4ca7-bbb4-e04633fe4791",
   "metadata": {
    "execution": {
     "iopub.execute_input": "2022-08-01T00:19:00.389256Z",
     "iopub.status.busy": "2022-08-01T00:19:00.388803Z",
     "iopub.status.idle": "2022-08-01T00:19:00.417680Z",
     "shell.execute_reply": "2022-08-01T00:19:00.417117Z",
     "shell.execute_reply.started": "2022-08-01T00:19:00.389227Z"
    },
    "tags": []
   },
   "outputs": [
    {
     "data": {
      "text/html": [
       "<div>\n",
       "<style scoped>\n",
       "    .dataframe tbody tr th:only-of-type {\n",
       "        vertical-align: middle;\n",
       "    }\n",
       "\n",
       "    .dataframe tbody tr th {\n",
       "        vertical-align: top;\n",
       "    }\n",
       "\n",
       "    .dataframe thead th {\n",
       "        text-align: right;\n",
       "    }\n",
       "</style>\n",
       "<table border=\"1\" class=\"dataframe\">\n",
       "  <thead>\n",
       "    <tr style=\"text-align: right;\">\n",
       "      <th></th>\n",
       "      <th>mpg</th>\n",
       "      <th>cylinders</th>\n",
       "      <th>displacement</th>\n",
       "      <th>horsepower</th>\n",
       "      <th>weight</th>\n",
       "      <th>acceleration</th>\n",
       "      <th>model_year</th>\n",
       "      <th>origin</th>\n",
       "    </tr>\n",
       "  </thead>\n",
       "  <tbody>\n",
       "    <tr>\n",
       "      <th>count</th>\n",
       "      <td>397.000000</td>\n",
       "      <td>397.000000</td>\n",
       "      <td>397.000000</td>\n",
       "      <td>397.000000</td>\n",
       "      <td>397.000000</td>\n",
       "      <td>397.000000</td>\n",
       "      <td>397.000000</td>\n",
       "      <td>397.000000</td>\n",
       "    </tr>\n",
       "    <tr>\n",
       "      <th>mean</th>\n",
       "      <td>23.514358</td>\n",
       "      <td>5.458438</td>\n",
       "      <td>193.560453</td>\n",
       "      <td>104.123426</td>\n",
       "      <td>2970.589421</td>\n",
       "      <td>15.571285</td>\n",
       "      <td>76.000000</td>\n",
       "      <td>1.574307</td>\n",
       "    </tr>\n",
       "    <tr>\n",
       "      <th>std</th>\n",
       "      <td>7.825846</td>\n",
       "      <td>1.701577</td>\n",
       "      <td>104.366796</td>\n",
       "      <td>38.396800</td>\n",
       "      <td>847.903955</td>\n",
       "      <td>2.760431</td>\n",
       "      <td>3.696846</td>\n",
       "      <td>0.802549</td>\n",
       "    </tr>\n",
       "    <tr>\n",
       "      <th>min</th>\n",
       "      <td>9.000000</td>\n",
       "      <td>3.000000</td>\n",
       "      <td>68.000000</td>\n",
       "      <td>46.000000</td>\n",
       "      <td>1613.000000</td>\n",
       "      <td>8.000000</td>\n",
       "      <td>70.000000</td>\n",
       "      <td>1.000000</td>\n",
       "    </tr>\n",
       "    <tr>\n",
       "      <th>25%</th>\n",
       "      <td>17.500000</td>\n",
       "      <td>4.000000</td>\n",
       "      <td>104.000000</td>\n",
       "      <td>75.000000</td>\n",
       "      <td>2223.000000</td>\n",
       "      <td>13.800000</td>\n",
       "      <td>73.000000</td>\n",
       "      <td>1.000000</td>\n",
       "    </tr>\n",
       "    <tr>\n",
       "      <th>50%</th>\n",
       "      <td>23.000000</td>\n",
       "      <td>4.000000</td>\n",
       "      <td>151.000000</td>\n",
       "      <td>92.000000</td>\n",
       "      <td>2800.000000</td>\n",
       "      <td>15.500000</td>\n",
       "      <td>76.000000</td>\n",
       "      <td>1.000000</td>\n",
       "    </tr>\n",
       "    <tr>\n",
       "      <th>75%</th>\n",
       "      <td>29.000000</td>\n",
       "      <td>8.000000</td>\n",
       "      <td>262.000000</td>\n",
       "      <td>125.000000</td>\n",
       "      <td>3609.000000</td>\n",
       "      <td>17.200000</td>\n",
       "      <td>79.000000</td>\n",
       "      <td>2.000000</td>\n",
       "    </tr>\n",
       "    <tr>\n",
       "      <th>max</th>\n",
       "      <td>46.600000</td>\n",
       "      <td>8.000000</td>\n",
       "      <td>455.000000</td>\n",
       "      <td>230.000000</td>\n",
       "      <td>5140.000000</td>\n",
       "      <td>24.800000</td>\n",
       "      <td>82.000000</td>\n",
       "      <td>3.000000</td>\n",
       "    </tr>\n",
       "  </tbody>\n",
       "</table>\n",
       "</div>"
      ],
      "text/plain": [
       "              mpg   cylinders  displacement  horsepower       weight  \\\n",
       "count  397.000000  397.000000    397.000000  397.000000   397.000000   \n",
       "mean    23.514358    5.458438    193.560453  104.123426  2970.589421   \n",
       "std      7.825846    1.701577    104.366796   38.396800   847.903955   \n",
       "min      9.000000    3.000000     68.000000   46.000000  1613.000000   \n",
       "25%     17.500000    4.000000    104.000000   75.000000  2223.000000   \n",
       "50%     23.000000    4.000000    151.000000   92.000000  2800.000000   \n",
       "75%     29.000000    8.000000    262.000000  125.000000  3609.000000   \n",
       "max     46.600000    8.000000    455.000000  230.000000  5140.000000   \n",
       "\n",
       "       acceleration  model_year      origin  \n",
       "count    397.000000  397.000000  397.000000  \n",
       "mean      15.571285   76.000000    1.574307  \n",
       "std        2.760431    3.696846    0.802549  \n",
       "min        8.000000   70.000000    1.000000  \n",
       "25%       13.800000   73.000000    1.000000  \n",
       "50%       15.500000   76.000000    1.000000  \n",
       "75%       17.200000   79.000000    2.000000  \n",
       "max       24.800000   82.000000    3.000000  "
      ]
     },
     "execution_count": 10,
     "metadata": {},
     "output_type": "execute_result"
    }
   ],
   "source": [
    "df.describe()"
   ]
  },
  {
   "cell_type": "markdown",
   "id": "90fe9344-fe47-4503-be59-74d9d38cf1d3",
   "metadata": {},
   "source": [
    "Everything looks proportional"
   ]
  },
  {
   "cell_type": "code",
   "execution_count": 11,
   "id": "3f68b5d6-15c7-4fe0-aa49-a04ab90c4efa",
   "metadata": {
    "execution": {
     "iopub.execute_input": "2022-08-01T00:19:00.418521Z",
     "iopub.status.busy": "2022-08-01T00:19:00.418342Z",
     "iopub.status.idle": "2022-08-01T00:19:00.645493Z",
     "shell.execute_reply": "2022-08-01T00:19:00.644587Z",
     "shell.execute_reply.started": "2022-08-01T00:19:00.418505Z"
    },
    "tags": []
   },
   "outputs": [
    {
     "data": {
      "image/png": "[encoded data removed]",
      "text/plain": [
       "<Figure size 360x360 with 1 Axes>"
      ]
     },
     "metadata": {
      "needs_background": "light"
     },
     "output_type": "display_data"
    }
   ],
   "source": [
    "sns.displot(x=df.mpg)\n",
    "plt.title('Distribution of MPG')\n",
    "plt.show();"
   ]
  },
  {
   "cell_type": "markdown",
   "id": "506e5033-b3da-4624-bbc5-44f3d159d9e1",
   "metadata": {},
   "source": [
    "Most MPG is around 20"
   ]
  },
  {
   "cell_type": "code",
   "execution_count": 12,
   "id": "4c705ec7-9106-4f3c-a65b-5081fe1ded59",
   "metadata": {
    "execution": {
     "iopub.execute_input": "2022-08-01T00:19:00.647104Z",
     "iopub.status.busy": "2022-08-01T00:19:00.646709Z",
     "iopub.status.idle": "2022-08-01T00:19:00.732581Z",
     "shell.execute_reply": "2022-08-01T00:19:00.732044Z",
     "shell.execute_reply.started": "2022-08-01T00:19:00.647075Z"
    },
    "tags": []
   },
   "outputs": [
    {
     "data": {
      "image/png": "[encoded data removed]",
      "text/plain": [
       "<Figure size 640x480 with 1 Axes>"
      ]
     },
     "metadata": {},
     "output_type": "display_data"
    }
   ],
   "source": [
    "sns.boxplot(x=df.mpg)\n",
    "plt.title('Boxplot of MPG')\n",
    "plt.show();"
   ]
  },
  {
   "cell_type": "markdown",
   "id": "6ab5a1cd-177f-4dcb-bd79-e9ad395d51d7",
   "metadata": {},
   "source": [
    "There's one value considered an outlier:"
   ]
  },
  {
   "cell_type": "code",
   "execution_count": 13,
   "id": "655067f4-4c89-4e65-b65a-c1a1e4158535",
   "metadata": {
    "execution": {
     "iopub.execute_input": "2022-08-01T00:19:00.733588Z",
     "iopub.status.busy": "2022-08-01T00:19:00.733352Z",
     "iopub.status.idle": "2022-08-01T00:19:00.742775Z",
     "shell.execute_reply": "2022-08-01T00:19:00.741517Z",
     "shell.execute_reply.started": "2022-08-01T00:19:00.733572Z"
    },
    "tags": []
   },
   "outputs": [
    {
     "data": {
      "text/html": [
       "<div>\n",
       "<style scoped>\n",
       "    .dataframe tbody tr th:only-of-type {\n",
       "        vertical-align: middle;\n",
       "    }\n",
       "\n",
       "    .dataframe tbody tr th {\n",
       "        vertical-align: top;\n",
       "    }\n",
       "\n",
       "    .dataframe thead th {\n",
       "        text-align: right;\n",
       "    }\n",
       "</style>\n",
       "<table border=\"1\" class=\"dataframe\">\n",
       "  <thead>\n",
       "    <tr style=\"text-align: right;\">\n",
       "      <th></th>\n",
       "      <th>mpg</th>\n",
       "      <th>cylinders</th>\n",
       "      <th>displacement</th>\n",
       "      <th>horsepower</th>\n",
       "      <th>weight</th>\n",
       "      <th>acceleration</th>\n",
       "      <th>model_year</th>\n",
       "      <th>origin</th>\n",
       "      <th>car_name</th>\n",
       "    </tr>\n",
       "  </thead>\n",
       "  <tbody>\n",
       "    <tr>\n",
       "      <th>322</th>\n",
       "      <td>46.6</td>\n",
       "      <td>4</td>\n",
       "      <td>86.0</td>\n",
       "      <td>65.0</td>\n",
       "      <td>2110.0</td>\n",
       "      <td>17.9</td>\n",
       "      <td>80</td>\n",
       "      <td>3</td>\n",
       "      <td>mazda glc</td>\n",
       "    </tr>\n",
       "  </tbody>\n",
       "</table>\n",
       "</div>"
      ],
      "text/plain": [
       "      mpg  cylinders  displacement  horsepower  weight  acceleration  \\\n",
       "322  46.6          4          86.0        65.0  2110.0          17.9   \n",
       "\n",
       "     model_year  origin   car_name  \n",
       "322          80       3  mazda glc  "
      ]
     },
     "execution_count": 13,
     "metadata": {},
     "output_type": "execute_result"
    }
   ],
   "source": [
    "df[df.mpg > 45]"
   ]
  },
  {
   "cell_type": "markdown",
   "id": "f89f5906-7b78-4268-933a-ccf02e151b85",
   "metadata": {},
   "source": [
    "I'm going to leave this in because it's a real value. I guess it appears as an outlier because the data set is so small"
   ]
  },
  {
   "cell_type": "code",
   "execution_count": 14,
   "id": "2720ba7e-272d-4cf7-810c-0a7ec7ad2e58",
   "metadata": {
    "execution": {
     "iopub.execute_input": "2022-08-01T00:19:00.744397Z",
     "iopub.status.busy": "2022-08-01T00:19:00.744001Z",
     "iopub.status.idle": "2022-08-01T00:19:00.899639Z",
     "shell.execute_reply": "2022-08-01T00:19:00.899044Z",
     "shell.execute_reply.started": "2022-08-01T00:19:00.744367Z"
    },
    "tags": []
   },
   "outputs": [
    {
     "data": {
      "image/png": "[encoded data removed]",
      "text/plain": [
       "<Figure size 500x500 with 1 Axes>"
      ]
     },
     "metadata": {},
     "output_type": "display_data"
    }
   ],
   "source": [
    "sns.displot(x=df.cylinders)\n",
    "plt.title('Distribution of Cylinders')\n",
    "plt.show();"
   ]
  },
  {
   "cell_type": "markdown",
   "id": "7d99f70d-728f-4df3-a178-023617e642af",
   "metadata": {},
   "source": [
    "4 Cylinder engines outnumber the others by a lot. It would be nice if we had more info to go off of, particularly if 6 cylinders could be split between inline and V configurations. It's less important for the others cause while inline-8s and V4s exist they're so uncommon in cars of this vintage that we can assume they don't exist. They'll get different fuel economy but not by enough to sway things at the level of accuracy we're at. Inline-6 vs V6 though I think there could be something to see there and it could improve accuracy slightly"
   ]
  },
  {
   "cell_type": "code",
   "execution_count": 15,
   "id": "8fecb4c7-cdda-4922-8018-3e5160f6ecf1",
   "metadata": {
    "execution": {
     "iopub.execute_input": "2022-08-01T00:19:00.900607Z",
     "iopub.status.busy": "2022-08-01T00:19:00.900368Z",
     "iopub.status.idle": "2022-08-01T00:19:01.039878Z",
     "shell.execute_reply": "2022-08-01T00:19:01.039298Z",
     "shell.execute_reply.started": "2022-08-01T00:19:00.900591Z"
    },
    "tags": []
   },
   "outputs": [
    {
     "data": {
      "image/png": "[encoded data removed]",
      "text/plain": [
       "<Figure size 500x500 with 1 Axes>"
      ]
     },
     "metadata": {},
     "output_type": "display_data"
    }
   ],
   "source": [
    "sns.displot(x=df.displacement)\n",
    "plt.title('Distribution of Displacement')\n",
    "plt.show();"
   ]
  },
  {
   "cell_type": "markdown",
   "id": "3235dc9c-d7d4-4795-8fd2-1d208be182c7",
   "metadata": {},
   "source": [
    "Most engines in the data are smaller since most of our engines are 4 cylinders. The 3 groups seen here are the split between 4, 6, and 8 cylinders because they all come in generally the same sizes for automotive applications"
   ]
  },
  {
   "cell_type": "code",
   "execution_count": 16,
   "id": "b7b4c6b4-c46c-4f61-9e2a-1243ccc39d0a",
   "metadata": {
    "execution": {
     "iopub.execute_input": "2022-08-01T00:19:01.041100Z",
     "iopub.status.busy": "2022-08-01T00:19:01.040804Z",
     "iopub.status.idle": "2022-08-01T00:19:01.123396Z",
     "shell.execute_reply": "2022-08-01T00:19:01.122989Z",
     "shell.execute_reply.started": "2022-08-01T00:19:01.041075Z"
    },
    "tags": []
   },
   "outputs": [
    {
     "data": {
      "image/png": "[encoded data removed]",
      "text/plain": [
       "<Figure size 640x480 with 1 Axes>"
      ]
     },
     "metadata": {},
     "output_type": "display_data"
    }
   ],
   "source": [
    "sns.boxplot(x=df.displacement)\n",
    "plt.title('Boxplot of Displacement')\n",
    "plt.show();"
   ]
  },
  {
   "cell_type": "markdown",
   "id": "78eff4eb-407f-4d7b-9c7d-42fde78b4cf4",
   "metadata": {},
   "source": [
    "Again most engines are on the smaller side of the spectrum ranging from around 100ci to around 260ci which is representative of the market"
   ]
  },
  {
   "cell_type": "code",
   "execution_count": 17,
   "id": "0235d7ee-8882-490c-b209-8d2d2fbacee5",
   "metadata": {
    "execution": {
     "iopub.execute_input": "2022-08-01T00:19:01.124186Z",
     "iopub.status.busy": "2022-08-01T00:19:01.124021Z",
     "iopub.status.idle": "2022-08-01T00:19:01.256006Z",
     "shell.execute_reply": "2022-08-01T00:19:01.255440Z",
     "shell.execute_reply.started": "2022-08-01T00:19:01.124159Z"
    },
    "tags": []
   },
   "outputs": [
    {
     "data": {
      "image/png": "[encoded data removed]",
      "text/plain": [
       "<Figure size 500x500 with 1 Axes>"
      ]
     },
     "metadata": {},
     "output_type": "display_data"
    }
   ],
   "source": [
    "sns.displot(x=df.weight)\n",
    "plt.title('Distribution of Weight')\n",
    "plt.show();"
   ]
  },
  {
   "cell_type": "markdown",
   "id": "b8bbd1af-1c95-4fde-916e-e757f95b2f04",
   "metadata": {},
   "source": [
    "Weight is a major player in fuel economy as it takes more energy to move a heavy car. An inefficient engine moving less weight than a highly efficient engine can end up burning more fuel but generally less weight means higher mpg. Most cars here are around 2000lbs, which makes sense because that's about the weight of a typical commuter/economy car from the 70s. They didn't have as much stuff packed into the interior that we have today so they're lighter. That's why some of these MPG numbers may seem high, but they're real"
   ]
  },
  {
   "cell_type": "code",
   "execution_count": 18,
   "id": "762d3940-4f1e-40e1-9fef-67073f33791b",
   "metadata": {
    "execution": {
     "iopub.execute_input": "2022-08-01T00:19:01.256902Z",
     "iopub.status.busy": "2022-08-01T00:19:01.256753Z",
     "iopub.status.idle": "2022-08-01T00:19:01.325922Z",
     "shell.execute_reply": "2022-08-01T00:19:01.325506Z",
     "shell.execute_reply.started": "2022-08-01T00:19:01.256887Z"
    },
    "tags": []
   },
   "outputs": [
    {
     "data": {
      "image/png": "[encoded data removed]",
      "text/plain": [
       "<Figure size 640x480 with 1 Axes>"
      ]
     },
     "metadata": {},
     "output_type": "display_data"
    }
   ],
   "source": [
    "sns.boxplot(x=df.weight)\n",
    "plt.title('Boxplot of Weight')\n",
    "plt.show();"
   ]
  },
  {
   "cell_type": "markdown",
   "id": "6cfba8d4-ac12-44bb-8917-22ed65f513b2",
   "metadata": {},
   "source": [
    "Nothing out of the ordinary here"
   ]
  },
  {
   "cell_type": "code",
   "execution_count": 19,
   "id": "acd58565-0abe-4245-b505-81fa56a0e106",
   "metadata": {
    "execution": {
     "iopub.execute_input": "2022-08-01T00:19:01.326907Z",
     "iopub.status.busy": "2022-08-01T00:19:01.326552Z",
     "iopub.status.idle": "2022-08-01T00:19:01.473926Z",
     "shell.execute_reply": "2022-08-01T00:19:01.473358Z",
     "shell.execute_reply.started": "2022-08-01T00:19:01.326892Z"
    },
    "tags": []
   },
   "outputs": [
    {
     "data": {
      "image/png": "[encoded data removed]",
      "text/plain": [
       "<Figure size 500x500 with 1 Axes>"
      ]
     },
     "metadata": {},
     "output_type": "display_data"
    }
   ],
   "source": [
    "sns.displot(x=df.acceleration)\n",
    "plt.title('Distribution of Acceleration')\n",
    "plt.show();"
   ]
  },
  {
   "cell_type": "code",
   "execution_count": 20,
   "id": "dd0e9f92-fe24-4de5-ba3c-e0cdb9767e0d",
   "metadata": {
    "execution": {
     "iopub.execute_input": "2022-08-01T00:19:01.474821Z",
     "iopub.status.busy": "2022-08-01T00:19:01.474614Z",
     "iopub.status.idle": "2022-08-01T00:19:01.558118Z",
     "shell.execute_reply": "2022-08-01T00:19:01.557560Z",
     "shell.execute_reply.started": "2022-08-01T00:19:01.474806Z"
    },
    "tags": []
   },
   "outputs": [
    {
     "data": {
      "image/png": "[encoded data removed]",
      "text/plain": [
       "<Figure size 640x480 with 1 Axes>"
      ]
     },
     "metadata": {},
     "output_type": "display_data"
    }
   ],
   "source": [
    "sns.boxplot(x=df.acceleration);\n",
    "plt.title('Boxplot of Acceleration')\n",
    "plt.show();"
   ]
  },
  {
   "cell_type": "markdown",
   "id": "1087d45a-dc2f-47f9-be25-f1f28669c2ad",
   "metadata": {},
   "source": [
    "I'm not even sure what acceleration is supposed to be. I assume probably it's 0-60mph time in seconds.. While it's interesting I think it contributes nothing to calculating MPG and looks a bit less than ideal anyway. Everything is close to the same value and there are some outliers"
   ]
  },
  {
   "cell_type": "code",
   "execution_count": 21,
   "id": "291e8653-3d29-4fb5-8105-2fea779cc5ed",
   "metadata": {
    "execution": {
     "iopub.execute_input": "2022-08-01T00:19:01.559014Z",
     "iopub.status.busy": "2022-08-01T00:19:01.558801Z",
     "iopub.status.idle": "2022-08-01T00:19:01.693534Z",
     "shell.execute_reply": "2022-08-01T00:19:01.692969Z",
     "shell.execute_reply.started": "2022-08-01T00:19:01.558999Z"
    },
    "tags": []
   },
   "outputs": [
    {
     "data": {
      "image/png": "[encoded data removed]",
      "text/plain": [
       "<Figure size 500x500 with 1 Axes>"
      ]
     },
     "metadata": {},
     "output_type": "display_data"
    }
   ],
   "source": [
    "sns.displot(x=df.model_year);\n",
    "plt.title('Distribution of Model Year')\n",
    "plt.show();"
   ]
  },
  {
   "cell_type": "markdown",
   "id": "f7addd67-2fba-4539-88e3-347164d3cfd7",
   "metadata": {},
   "source": [
    "Model year interestingly has 3 peaks. I'm not going to use this as a feature, not because of this, but because the data only spans 12 years. Model year could be a great indicator of tech but it won't work in this case because there's just not enough data and no real leaps in technology were had in these years anyway. To make predictions on unseen data if the model year is outside 1970-1982 like in the training set then it'll throw the prediction wildly off"
   ]
  },
  {
   "cell_type": "markdown",
   "id": "042416c1-0e56-4269-96c8-6926392e11e7",
   "metadata": {},
   "source": [
    "### Save"
   ]
  },
  {
   "cell_type": "code",
   "execution_count": 22,
   "id": "b3b42cca-6960-4d06-b7c4-1570f09e9fe0",
   "metadata": {
    "execution": {
     "iopub.execute_input": "2022-08-01T00:19:01.695975Z",
     "iopub.status.busy": "2022-08-01T00:19:01.695735Z",
     "iopub.status.idle": "2022-08-01T00:19:01.701574Z",
     "shell.execute_reply": "2022-08-01T00:19:01.700997Z",
     "shell.execute_reply.started": "2022-08-01T00:19:01.695960Z"
    },
    "tags": []
   },
   "outputs": [],
   "source": [
    "df.to_csv('data/clean.csv', index=False)"
   ]
  },
  {
   "cell_type": "markdown",
   "id": "59524851-efe5-4042-8eee-d67038a13a77",
   "metadata": {},
   "source": [
    "[EDA](eda.ipynb)"
   ]
  }
 ],
 "metadata": {
  "kernelspec": {
   "display_name": "Python 3 (ipykernel)",
   "language": "python",
   "name": "python3"
  },
  "language_info": {
   "codemirror_mode": {
    "name": "ipython",
    "version": 3
   },
   "file_extension": ".py",
   "mimetype": "text/x-python",
   "name": "python",
   "nbconvert_exporter": "python",
   "pygments_lexer": "ipython3",
   "version": "3.10.5"
  }
 },
 "nbformat": 4,
 "nbformat_minor": 5
}
